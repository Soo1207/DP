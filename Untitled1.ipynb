{
 "cells": [
  {
   "cell_type": "code",
   "execution_count": 9,
   "metadata": {},
   "outputs": [
    {
     "name": "stdout",
     "output_type": "stream",
     "text": [
      "[1, 0, 1, 0, 1, 1, 1, 0, 0, 0, 1, 0]\n"
     ]
    }
   ],
   "source": [
    "data1=['Cat','Dog','cat','dog','cat','cat','Cat','Dog','dog','Dog','cat','Dog']\n",
    "dic_1={'Cat':1, 'cat':1,'dog':0,'Dog':0}\n",
    "data2=[dic_1[key] for key in data1]\n",
    "print(data2)"
   ]
  },
  {
   "cell_type": "code",
   "execution_count": 7,
   "metadata": {},
   "outputs": [
    {
     "name": "stdout",
     "output_type": "stream",
     "text": [
      "0번 학생은 pass\n",
      "1번 학생은 pass\n",
      "2번 학생은 pass\n",
      "3번 학생은 fail\n",
      "4번 학생은 pass\n"
     ]
    }
   ],
   "source": [
    "score=[65,80,75,55,90]\n",
    "for i in range(len(score)):\n",
    "    if  score[i]>=60:\n",
    "        print(\"%d번 학생은 pass\"%i)\n",
    "    else:\n",
    "        print(\"%d번 학생은 fail\"%i)"
   ]
  },
  {
   "cell_type": "code",
   "execution_count": null,
   "metadata": {},
   "outputs": [],
   "source": []
  }
 ],
 "metadata": {
  "kernelspec": {
   "display_name": "Python 3",
   "language": "python",
   "name": "python3"
  },
  "language_info": {
   "codemirror_mode": {
    "name": "ipython",
    "version": 3
   },
   "file_extension": ".py",
   "mimetype": "text/x-python",
   "name": "python",
   "nbconvert_exporter": "python",
   "pygments_lexer": "ipython3",
   "version": "3.8.5"
  }
 },
 "nbformat": 4,
 "nbformat_minor": 4
}
